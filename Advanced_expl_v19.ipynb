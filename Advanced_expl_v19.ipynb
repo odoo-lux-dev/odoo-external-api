{
 "cells": [
  {
   "cell_type": "markdown",
   "metadata": {},
   "source": [
    "## 1: Database Connection"
   ]
  },
  {
   "cell_type": "code",
   "metadata": {},
   "source": [
    "url = \"\"\n",
    "db = \"\"\n",
    "api_key = \"\""
   ],
   "outputs": [],
   "execution_count": null
  },
  {
   "cell_type": "code",
   "metadata": {},
   "source": "import requests",
   "outputs": [],
   "execution_count": null
  },
  {
   "cell_type": "markdown",
   "metadata": {},
   "source": [
    "## 2 SO Creation"
   ]
  },
  {
   "cell_type": "markdown",
   "metadata": {},
   "source": [
    "### 2.1: Search Partner"
   ]
  },
  {
   "metadata": {},
   "cell_type": "code",
   "source": [
    "partner = requests.post(\n",
    "    f\"{url}/json/2/res.partner/search\",\n",
    "    headers={\n",
    "        # \"X-Odoo-Database\": f\"{db},  # only when DOMAIN isn't enough\n",
    "        \"Authorization\": f\"bearer {api_key}\",\n",
    "    },\n",
    "    json={\n",
    "        \"domain\": [\n",
    "            (\"name\", \"=\", \"Deco Addict\"),\n",
    "        ],\n",
    "    },\n",
    ").json()\n",
    "print(\"Partner id\", partner)"
   ],
   "outputs": [],
   "execution_count": null
  },
  {
   "metadata": {},
   "cell_type": "code",
   "source": [
    "# Example of other queries that could have been done, with different arguments\n",
    "partners = requests.post(\n",
    "    f\"{url}/json/2/res.partner/search\",\n",
    "    headers={\n",
    "        # \"X-Odoo-Database\": f\"{db},  # only when DOMAIN isn't enough\n",
    "        \"Authorization\": f\"bearer {api_key}\",\n",
    "    },\n",
    "    json={\n",
    "        \"domain\": [\n",
    "            (\"name\", \"ilike\", \"Deco\"),\n",
    "        ],\n",
    "    },\n",
    ").json()\n",
    "print(\"Partner ids (without limit/offset)\", partners)\n",
    "\n",
    "partners = requests.post(\n",
    "    f\"{url}/json/2/res.partner/search\",\n",
    "    headers={\n",
    "        # \"X-Odoo-Database\": f\"{db},  # only when DOMAIN isn't enough\n",
    "        \"Authorization\": f\"bearer {api_key}\",\n",
    "    },\n",
    "    json={\n",
    "        \"domain\": [\n",
    "            (\"name\", \"ilike\", \"Deco\"),\n",
    "        ],\n",
    "        \"limit\": 1,\n",
    "        \"offset\": 1,\n",
    "    },\n",
    ").json()\n",
    "print(\"Partner ids (with limit/offset)\", partners)"
   ],
   "outputs": [],
   "execution_count": null
  },
  {
   "cell_type": "markdown",
   "metadata": {},
   "source": "### 2.2: Product search"
  },
  {
   "cell_type": "code",
   "metadata": {},
   "source": [
    "product_var = requests.post(\n",
    "    f\"{url}/json/2/product.product/search_read\",\n",
    "    headers={\n",
    "        # \"X-Odoo-Database\": f\"{db},  # only when DOMAIN isn't enough\n",
    "        \"Authorization\": f\"bearer {api_key}\",\n",
    "    },\n",
    "    json={\n",
    "        \"domain\": [\n",
    "            (\"default_code\", \"=\", \"E-COM11\"),\n",
    "        ],\n",
    "        \"fields\": [\"id\", \"name\", \"default_code\"],\n",
    "    },\n",
    ").json()\n",
    "print(\"Product variant\", product_var)"
   ],
   "outputs": [],
   "execution_count": null
  },
  {
   "cell_type": "markdown",
   "metadata": {},
   "source": [
    "### 2.3: SO Creation"
   ]
  },
  {
   "cell_type": "code",
   "metadata": {},
   "source": [
    "so_data = {\n",
    "    \"partner_id\": partner[0],\n",
    "    \"order_line\": [\n",
    "        # Magic number, please refer to Odoo documentation for more details (https://www.odoo.com/documentation/18.0/developer/reference/backend/orm.html#odoo.fields.Command)\n",
    "        (0, 0, {\"product_id\": product_var[0][\"id\"]})\n",
    "    ]\n",
    "}\n",
    "\n",
    "so = requests.post(\n",
    "    f\"{url}/json/2/sale.order/create\",\n",
    "    headers={\n",
    "        # \"X-Odoo-Database\": f\"{db},  # only when DOMAIN isn't enough\n",
    "        \"Authorization\": f\"bearer {api_key}\",\n",
    "    },\n",
    "    json={\n",
    "        \"vals_list\": [so_data],\n",
    "    },\n",
    ").json()\n",
    "print(\"SO id\", so)"
   ],
   "outputs": [],
   "execution_count": null
  },
  {
   "cell_type": "markdown",
   "metadata": {},
   "source": [
    "### 2.4: Line Addition"
   ]
  },
  {
   "cell_type": "code",
   "metadata": {},
   "source": [
    "returned_value = requests.post(\n",
    "    f\"{url}/json/2/sale.order/write\",\n",
    "    headers={\n",
    "        # \"X-Odoo-Database\": f\"{db},  # only when DOMAIN isn't enough\n",
    "        \"Authorization\": f\"bearer {api_key}\",\n",
    "    },\n",
    "    json={\n",
    "        \"ids\": so,\n",
    "        \"vals\": {\n",
    "            \"order_line\": [\n",
    "                # Magic number, please refer to Odoo documentation for more details (https://www.odoo.com/documentation/18.0/developer/reference/backend/orm.html#odoo.fields.Command)\n",
    "                (0, 0, {\n",
    "                    \"product_id\": product_var[0][\"id\"]\n",
    "                })\n",
    "            ]\n",
    "        },\n",
    "    },\n",
    ").json()\n",
    "\n",
    "print(\"Returned value\", returned_value)"
   ],
   "outputs": [],
   "execution_count": null
  },
  {
   "cell_type": "markdown",
   "metadata": {},
   "source": [
    "## 3 Send by mail"
   ]
  },
  {
   "cell_type": "markdown",
   "metadata": {},
   "source": "Send by mail button creates a wizard, we have to deal with that: create the wizard with the necessary informations (mail templates,...) then send the mail."
  },
  {
   "cell_type": "code",
   "metadata": {},
   "source": [
    "# 'push' on send mail button, in user  interface this create the wizard. Here it returns a dictionnary with the infos required to create the wizard (with key 'context')\n",
    "\n",
    "action_send_mail = requests.post(\n",
    "    f\"{url}/json/2/sale.order/action_quotation_send\",\n",
    "    headers={\n",
    "        # \"X-Odoo-Database\": f\"{db},  # only when DOMAIN isn't enough\n",
    "        \"Authorization\": f\"bearer {api_key}\",\n",
    "    },\n",
    "    json={\n",
    "        \"ids\": so,\n",
    "    },\n",
    ").json()\n",
    "\n",
    "from pprint import pprint\n",
    "print(\"Action send mail (returned wizard)\")\n",
    "pprint(action_send_mail)"
   ],
   "outputs": [],
   "execution_count": null
  },
  {
   "cell_type": "code",
   "metadata": {},
   "source": [
    "# Wizard creation, with context from previous request\n",
    "action_context = action_send_mail.get(\"context\")\n",
    "wizard_args = [{}]\n",
    "\n",
    "wizard_id = requests.post(\n",
    "    f\"{url}/json/2/mail.compose.message/create\",\n",
    "    headers={\n",
    "        # \"X-Odoo-Database\": f\"{db},  # only when DOMAIN isn't enough\n",
    "        \"Authorization\": f\"bearer {api_key}\",\n",
    "    },\n",
    "    json={\n",
    "        \"vals_list\": wizard_args,\n",
    "        \"context\": action_context,\n",
    "    },\n",
    ").json()\n",
    "\n",
    "print(\"Wizard id\", wizard_id)\n"
   ],
   "outputs": [],
   "execution_count": null
  },
  {
   "cell_type": "code",
   "metadata": {},
   "source": [
    "# Send the mail\n",
    "wizard_close = requests.post(\n",
    "    f\"{url}/json/2/mail.compose.message/action_send_mail\",\n",
    "    headers={\n",
    "        # \"X-Odoo-Database\": f\"{db},  # only when DOMAIN isn't enough\n",
    "        \"Authorization\": f\"bearer {api_key}\",\n",
    "    },\n",
    "    json={\n",
    "        \"ids\": wizard_id,\n",
    "    },\n",
    ").json()\n",
    "\n",
    "print(\"Returned value\", wizard_close)"
   ],
   "outputs": [],
   "execution_count": null
  },
  {
   "cell_type": "markdown",
   "metadata": {},
   "source": [
    "## 4: Confirm SO"
   ]
  },
  {
   "cell_type": "code",
   "metadata": {},
   "source": [
    "returned_value = requests.post(\n",
    "    f\"{url}/json/2/sale.order/action_confirm\",\n",
    "    headers={\n",
    "        # \"X-Odoo-Database\": f\"{db},  # only when DOMAIN isn't enough\n",
    "        \"Authorization\": f\"bearer {api_key}\",\n",
    "    },\n",
    "    json={\n",
    "        \"ids\": so,\n",
    "    },\n",
    ").json()\n",
    "print(\"Returned Value\", returned_value)"
   ],
   "outputs": [],
   "execution_count": null
  },
  {
   "cell_type": "markdown",
   "metadata": {},
   "source": [
    "## 5: Add log note"
   ]
  },
  {
   "metadata": {},
   "cell_type": "code",
   "source": [
    "returned_value = requests.post(\n",
    "    f\"{url}/json/2/sale.order/message_post\",\n",
    "    headers={\n",
    "        # \"X-Odoo-Database\": f\"{db},  # only when DOMAIN isn't enough\n",
    "        \"Authorization\": f\"bearer {api_key}\",\n",
    "    },\n",
    "    json={\n",
    "        \"ids\": so,\n",
    "        \"body\": \"This SO has been confirmed through API\",\n",
    "    },\n",
    ").json()\n",
    "\n",
    "print(\"Returned Value\", returned_value)"
   ],
   "outputs": [],
   "execution_count": null
  },
  {
   "metadata": {},
   "cell_type": "markdown",
   "source": [
    "## 2) Request limit on odoo online/SH\n",
    "Can be limited to 1 requests/sec. Note that on odoo SH it looks like the request are only slowed down (a lot)"
   ]
  }
 ],
 "metadata": {
  "kernelspec": {
   "display_name": "Python 3",
   "language": "python",
   "name": "python3"
  },
  "language_info": {
   "codemirror_mode": {
    "name": "ipython",
    "version": 3
   },
   "file_extension": ".py",
   "mimetype": "text/x-python",
   "name": "python",
   "nbconvert_exporter": "python",
   "pygments_lexer": "ipython3",
   "version": "3.10.12"
  }
 },
 "nbformat": 4,
 "nbformat_minor": 2
}
